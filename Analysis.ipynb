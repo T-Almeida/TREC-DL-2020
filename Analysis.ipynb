{
 "cells": [
  {
   "cell_type": "code",
   "execution_count": 15,
   "metadata": {},
   "outputs": [],
   "source": [
    "import gc\n",
    "import json\n",
    "import tarfile\n",
    "import codecs\n",
    "import sys \n",
    "\n",
    "from collections import defaultdict"
   ]
  },
  {
   "cell_type": "code",
   "execution_count": 16,
   "metadata": {},
   "outputs": [],
   "source": [
    "# bad query id\n",
    "bad_query_id = \"1030303\"\n",
    "\n",
    "def load_prerank(file_name, collection, top_k=1000):\n",
    "    prerank = defaultdict(list)\n",
    "    min_rank = 999\n",
    "    with open(file_name) as f:\n",
    "        for line in f:\n",
    "            elements = line.split(\" \")\n",
    "            if elements[2] in collection and len(prerank[elements[0]])<top_k:\n",
    "                article = collection[elements[2]]\n",
    "                prerank[elements[0]].append({\"id\":elements[2], \n",
    "                                              \"score\":elements[4],\n",
    "                                              \"text\":article[\"text\"],\n",
    "                                              \"title\":article[\"title\"]})\n",
    "            \n",
    "    print(min_rank)    \n",
    "    \n",
    "    # create test collection base on the docs\n",
    "    #docs_per_topic = [len(docs_topic) for docs_topic in prerank.values()]\n",
    "    #print(\"average docs per topic\", sum(docs_per_topic)/len(docs_per_topic), \"min:\",min(docs_per_topic),\"max:\",max(docs_per_topic))\n",
    "    \n",
    "    return prerank\n",
    "\n",
    "def collection_iterator(file_name, f_map=None):\n",
    "    return collection_iterator_fn(file_name=file_name, f_map=f_map)()\n",
    "\n",
    "def collection_iterator_fn(file_name, f_map=None):\n",
    "    \n",
    "    reader = codecs.getreader(\"ascii\")\n",
    "    tar = tarfile.open(file_name)\n",
    "\n",
    "    print(\"[CORPORA] Openning tar file\", file_name)\n",
    "\n",
    "    members = tar.getmembers()\n",
    "    \n",
    "    def generator():\n",
    "        for m in members:\n",
    "            print(\"[CORPORA] Openning tar file {}\".format(m.name))\n",
    "            f = tar.extractfile(m)\n",
    "            articles = json.load(reader(f))\n",
    "            if f_map is not None:\n",
    "                articles = list(map(f_map, articles))\n",
    "            yield articles\n",
    "            f.close()\n",
    "            del f\n",
    "            gc.collect()\n",
    "    return generator"
   ]
  },
  {
   "cell_type": "code",
   "execution_count": 17,
   "metadata": {},
   "outputs": [
    {
     "name": "stdout",
     "output_type": "stream",
     "text": [
      "[CORPORA] Openning tar file /backup/MS-MARCO/ms-marco-docs.tar.gz\n",
      "[CORPORA] Openning tar file tmp/tmpvmkbfob_/ms-marco-docs_0000000_to_0500000\n",
      "[CORPORA] Openning tar file tmp/tmpvmkbfob_/ms-marco-docs_0500000_to_1000000\n",
      "[CORPORA] Openning tar file tmp/tmpvmkbfob_/ms-marco-docs_1000000_to_1500000\n",
      "[CORPORA] Openning tar file tmp/tmpvmkbfob_/ms-marco-docs_1500000_to_2000000\n",
      "[CORPORA] Openning tar file tmp/tmpvmkbfob_/ms-marco-docs_2000000_to_2500000\n",
      "[CORPORA] Openning tar file tmp/tmpvmkbfob_/ms-marco-docs_2500000_to_3000000\n",
      "[CORPORA] Openning tar file tmp/tmpvmkbfob_/ms-marco-docs_3000000_to_3213834\n",
      "999\n"
     ]
    }
   ],
   "source": [
    "# load collection\n",
    "collection = sum([ articles for articles in collection_iterator(\"/backup/MS-MARCO/ms-marco-docs.tar.gz\")],[])\n",
    "collection = {x[\"id\"]:x for x in collection}\n",
    "\n",
    "prerank = load_prerank(\"/backup/MS-MARCO/msmarco-doctest2020-top100\", collection)"
   ]
  },
  {
   "cell_type": "code",
   "execution_count": 18,
   "metadata": {},
   "outputs": [
    {
     "data": {
      "text/plain": [
       "100"
      ]
     },
     "execution_count": 18,
     "metadata": {},
     "output_type": "execute_result"
    }
   ],
   "source": [
    "len(prerank[bad_query_id])"
   ]
  },
  {
   "cell_type": "code",
   "execution_count": 20,
   "metadata": {},
   "outputs": [],
   "source": [
    "prerank[bad_query_id]"
   ]
  },
  {
   "cell_type": "code",
   "execution_count": null,
   "metadata": {},
   "outputs": [],
   "source": []
  }
 ],
 "metadata": {
  "kernelspec": {
   "display_name": "Python 3",
   "language": "python",
   "name": "python3"
  },
  "language_info": {
   "codemirror_mode": {
    "name": "ipython",
    "version": 3
   },
   "file_extension": ".py",
   "mimetype": "text/x-python",
   "name": "python",
   "nbconvert_exporter": "python",
   "pygments_lexer": "ipython3",
   "version": "3.6.9"
  }
 },
 "nbformat": 4,
 "nbformat_minor": 4
}
