{
 "cells": [
  {
   "cell_type": "code",
   "execution_count": 9,
   "metadata": {},
   "outputs": [],
   "source": [
    "import pandas as pd\n",
    "import gc\n",
    "import json\n",
    "import tarfile\n",
    "import codecs\n",
    "import sys\n",
    "import shutil\n",
    "import tempfile"
   ]
  },
  {
   "cell_type": "code",
   "execution_count": 2,
   "metadata": {},
   "outputs": [],
   "source": [
    "df = pd.read_csv(\"/backup/MS-MARCO/msmarco-docs.tsv\", sep=\"\\t\")"
   ]
  },
  {
   "cell_type": "code",
   "execution_count": 7,
   "metadata": {},
   "outputs": [],
   "source": [
    "df.columns = [\"DOCID\", \"url\", \"title\", \"abstract\"]\n",
    "\n",
    "# to json\n",
    "docs = []\n",
    "for _,l in df.iterrows():\n",
    "    docs.append({\"text\":str(l[\"title\"]) + \" \" +str(l[\"abstract\"]),\n",
    "                 \"title\":str(l[\"title\"]),\n",
    "                 \"id\":l[\"DOCID\"]})"
   ]
  },
  {
   "cell_type": "code",
   "execution_count": null,
   "metadata": {},
   "outputs": [],
   "source": []
  },
  {
   "cell_type": "code",
   "execution_count": 13,
   "metadata": {},
   "outputs": [
    {
     "name": "stdout",
     "output_type": "stream",
     "text": [
      "3213834\n",
      "Save file /tmp/tmpvmkbfob_/ms-marco-docs_0000000_to_0500000 :Done\n",
      "Save file /tmp/tmpvmkbfob_/ms-marco-docs_0500000_to_1000000 :Done\n",
      "Save file /tmp/tmpvmkbfob_/ms-marco-docs_1000000_to_1500000 :Done\n",
      "Save file /tmp/tmpvmkbfob_/ms-marco-docs_1500000_to_2000000 :Done\n",
      "Save file /tmp/tmpvmkbfob_/ms-marco-docs_2000000_to_2500000 :Done\n",
      "Save file /tmp/tmpvmkbfob_/ms-marco-docs_2500000_to_3000000 :Done\n",
      "Save file /tmp/tmpvmkbfob_/ms-marco-docs_3000000_to_3213834 :Done\n",
      "Start the compression\n",
      "Remove /tmp/tmpvmkbfob_\n"
     ]
    }
   ],
   "source": [
    "## ZIP the collection\n",
    "index_name = \"ms-marco-docs\"\n",
    "zipped_collection_file = \"/backup/MS-MARCO/\"+index_name+\".tar.gz\"\n",
    "\n",
    "temp_dir = tempfile.mkdtemp()\n",
    "size = len(docs)\n",
    "print(size)\n",
    "itter = int(5e5)\n",
    "\n",
    "\n",
    "f_names = []\n",
    "\n",
    "try:\n",
    "    for i in range(0, size, itter):\n",
    "        file_name = \"{0}/{1}_{2:07}_to_{3:07}\".format(temp_dir,index_name,i, min(size, i+itter))\n",
    "        print(\"Save file\",file_name,\":\",end=\"\")\n",
    "        json.dump(docs[i:i+itter], open(file_name,\"w\"))\n",
    "        f_names.append(file_name)\n",
    "        print(\"Done\")\n",
    "    \n",
    "    print(\"Start the compression\")\n",
    "    # build tar file\n",
    "    with tarfile.open(zipped_collection_file, \"w:gz\") as tar:\n",
    "        for name in f_names:\n",
    "            tar.add(name)\n",
    "\n",
    "except Exception as e:\n",
    "    raise e # maybe handle the exception in the future\n",
    "finally:\n",
    "    # always remove the temp directory\n",
    "    print(\"Remove {}\".format(temp_dir))\n",
    "    shutil.rmtree(temp_dir)"
   ]
  },
  {
   "cell_type": "code",
   "execution_count": null,
   "metadata": {},
   "outputs": [],
   "source": []
  }
 ],
 "metadata": {
  "kernelspec": {
   "display_name": "Python 3",
   "language": "python",
   "name": "python3"
  },
  "language_info": {
   "codemirror_mode": {
    "name": "ipython",
    "version": 3
   },
   "file_extension": ".py",
   "mimetype": "text/x-python",
   "name": "python",
   "nbconvert_exporter": "python",
   "pygments_lexer": "ipython3",
   "version": "3.6.9"
  }
 },
 "nbformat": 4,
 "nbformat_minor": 4
}
