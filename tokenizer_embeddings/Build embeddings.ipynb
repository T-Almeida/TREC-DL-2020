{
 "cells": [
  {
   "cell_type": "code",
   "execution_count": null,
   "metadata": {},
   "outputs": [],
   "source": [
    "from nir.tokenizers import Regex\n",
    "import os\n",
    "import pandas as pd\n",
    "\n",
    "cache_folder = \"/backup/MS-MARCO/\"\n",
    "index_name = \"ms-marco-docs\"\n",
    "zipped_collection_file = \"/backup/MS-MARCO/\"+index_name+\".tar.gz\"\n",
    "\n",
    "_class = Regex\n",
    "tk = _class.load_from_json(cache_folder=os.path.join(cache_folder, \"tokenizers\"), \n",
    "                           prefix_name=index_name)"
   ]
  },
  {
   "cell_type": "code",
   "execution_count": null,
   "metadata": {},
   "outputs": [],
   "source": [
    "min_freq=5\n",
    "\n",
    "tk.update_min_word_frequency(min_freq)\n",
    "\n",
    "tk.vocabulary_size()"
   ]
  },
  {
   "cell_type": "code",
   "execution_count": 3,
   "metadata": {},
   "outputs": [],
   "source": [
    "from gensim.models.callbacks import CallbackAny2Vec\n",
    "\n",
    "from gensim.test.utils import common_texts, get_tmpfile\n",
    "from gensim.models import Word2Vec\n",
    "\n",
    "emb_size = 200\n",
    "_iter=15\n",
    "class EpochLogger(CallbackAny2Vec):\n",
    "    '''Callback to log information about training'''\n",
    "\n",
    "    def __init__(self):\n",
    "        self.epoch = 0\n",
    "\n",
    "    def on_epoch_begin(self, model):\n",
    "        print(\"Epoch #{} start\".format(self.epoch))\n",
    "\n",
    "    def on_epoch_end(self, model):\n",
    "        print(\"Epoch #{} end\".format(self.epoch))\n",
    "        self.epoch += 1\n",
    "        if self.epoch == 5:\n",
    "            model.wv.save(fname_or_handle =\"/backup/MS-MARCO/word2vec/msmarco2020_gensim_iter_\"+str(5)+\"_freq\"+str(min_freq)+\"_\"+str(emb_size)+\"_\"+_class.__name__+\"_word2vec.bin\")\n",
    "        else:\n",
    "            model.wv.save(fname_or_handle =\"/backup/MS-MARCO/word2vec/msmarco2020_gensim_iter_\"+str(_iter)+\"_freq\"+str(min_freq)+\"_\"+str(emb_size)+\"_\"+_class.__name__+\"_word2vec.bin\")"
   ]
  },
  {
   "cell_type": "code",
   "execution_count": 6,
   "metadata": {},
   "outputs": [],
   "source": [
    "# create a collection\n",
    "import gc\n",
    "import json\n",
    "import tarfile\n",
    "import codecs\n",
    "import sys \n",
    "import time\n",
    "\n",
    "def collection_iterator(file_name, f_map=None):\n",
    "    return collection_iterator_fn(file_name=file_name, f_map=f_map)()\n",
    "\n",
    "def collection_iterator_fn(file_name, f_map=None):\n",
    "    \n",
    "    reader = codecs.getreader(\"ascii\")\n",
    "    tar = tarfile.open(file_name)\n",
    "\n",
    "    print(\"[CORPORA] Openning tar file\", file_name)\n",
    "\n",
    "    members = tar.getmembers()\n",
    "    \n",
    "    def generator():\n",
    "        for m in members:\n",
    "            print(\"[CORPORA] Openning tar file {}\".format(m.name))\n",
    "            f = tar.extractfile(m)\n",
    "            articles = json.load(reader(f))\n",
    "            if f_map is not None:\n",
    "                articles = list(map(f_map, articles))\n",
    "            yield articles\n",
    "            f.close()\n",
    "            del f\n",
    "            gc.collect()\n",
    "    return generator\n",
    "\n",
    "def load_queries(file):\n",
    "    df = pd.read_csv(\"/backup/MS-MARCO/\"+file, sep=\"\\t\")\n",
    "    df.columns = [\"id\", \"query\"]\n",
    "\n",
    "    queries = []\n",
    "    for _,l in df.iterrows():\n",
    "        queries.append({\"query\":str(l[\"query\"]),\n",
    "                        \"id\":l[\"id\"]})\n",
    "    \n",
    "    return queries\n",
    "\n",
    "\n",
    "def sentences_generator():\n",
    "    \n",
    "    corpus_generator = collection_iterator_fn(zipped_collection_file, lambda x:x[\"text\"])\n",
    "    \n",
    "    print(\"MSMARCO queries\")\n",
    "    queries = []\n",
    "    queries.extend(map(lambda x:x[\"query\"],load_queries(\"msmarco-doctrain-queries.tsv\")))\n",
    "    queries.extend(map(lambda x:x[\"query\"],load_queries(\"msmarco-docdev-queries.tsv\")))\n",
    "    queries.extend(map(lambda x:x[\"query\"],load_queries(\"msmarco-test2019-queries.tsv\")))\n",
    "    queries.extend(map(lambda x:x[\"query\"],load_queries(\"msmarco-test2020-queries.tsv\")))\n",
    "    \n",
    "    queries = tk.texts_to_sequences(queries)\n",
    "    \n",
    "    for q in queries:\n",
    "        yield list(map(lambda x: tk.index_word[x], q))\n",
    "    \n",
    "    \n",
    "    print(\"MSMARCO Docs\")\n",
    "    for subarticles in corpus_generator():\n",
    "        s_time = time.time()\n",
    "        subarticles = tk.texts_to_sequences(subarticles)\n",
    "        print(\"tokenizer time\", time.time() - s_time)\n",
    "        for article in subarticles:\n",
    "            yield list(map(lambda x: tk.index_word[x], article))\n",
    "    "
   ]
  },
  {
   "cell_type": "code",
   "execution_count": 7,
   "metadata": {},
   "outputs": [
    {
     "name": "stdout",
     "output_type": "stream",
     "text": [
      "[CORPORA] Openning tar file /backup/MS-MARCO/ms-marco-docs.tar.gz\n",
      "MSMARCO queries\n",
      "MSMARCO Docs\n",
      "[CORPORA] Openning tar file tmp/tmpvmkbfob_/ms-marco-docs_0000000_to_0500000\n",
      "tokenizer time 807.1106107234955\n",
      "[CORPORA] Openning tar file tmp/tmpvmkbfob_/ms-marco-docs_0500000_to_1000000\n",
      "tokenizer time 829.1263709068298\n",
      "[CORPORA] Openning tar file tmp/tmpvmkbfob_/ms-marco-docs_1000000_to_1500000\n",
      "tokenizer time 806.5863394737244\n",
      "[CORPORA] Openning tar file tmp/tmpvmkbfob_/ms-marco-docs_1500000_to_2000000\n",
      "tokenizer time 812.6393640041351\n",
      "[CORPORA] Openning tar file tmp/tmpvmkbfob_/ms-marco-docs_2000000_to_2500000\n",
      "tokenizer time 820.1576969623566\n",
      "[CORPORA] Openning tar file tmp/tmpvmkbfob_/ms-marco-docs_2500000_to_3000000\n",
      "tokenizer time 814.6535995006561\n",
      "[CORPORA] Openning tar file tmp/tmpvmkbfob_/ms-marco-docs_3000000_to_3213834\n",
      "tokenizer time 358.30491185188293\n"
     ]
    }
   ],
   "source": [
    "corpus = [x for x in sentences_generator()]"
   ]
  },
  {
   "cell_type": "code",
   "execution_count": null,
   "metadata": {},
   "outputs": [
    {
     "name": "stdout",
     "output_type": "stream",
     "text": [
      "Epoch #0 start\n"
     ]
    }
   ],
   "source": [
    "model = Word2Vec(corpus, size=emb_size, iter=_iter, window=5, min_count=0, workers=40, sg=1, negative=5, callbacks=[EpochLogger()])"
   ]
  },
  {
   "cell_type": "code",
   "execution_count": null,
   "metadata": {},
   "outputs": [],
   "source": []
  }
 ],
 "metadata": {
  "kernelspec": {
   "display_name": "Python 3",
   "language": "python",
   "name": "python3"
  },
  "language_info": {
   "codemirror_mode": {
    "name": "ipython",
    "version": 3
   },
   "file_extension": ".py",
   "mimetype": "text/x-python",
   "name": "python",
   "nbconvert_exporter": "python",
   "pygments_lexer": "ipython3",
   "version": "3.6.9"
  }
 },
 "nbformat": 4,
 "nbformat_minor": 4
}
